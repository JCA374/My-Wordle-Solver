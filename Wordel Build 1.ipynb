{
 "cells": [
  {
   "cell_type": "markdown",
   "metadata": {},
   "source": [
    "## Get all 5 Letter Words"
   ]
  },
  {
   "cell_type": "code",
   "execution_count": 30,
   "metadata": {},
   "outputs": [
    {
     "name": "stdout",
     "output_type": "stream",
     "text": [
      "Total 5-letter words in English: 10230\n",
      "Example 5-letter words:\n",
      "['plebe', 'salic', 'melos', 'bruzz', 'nintu', 'tango', 'doric', 'slane', 'otate', 'rower']\n"
     ]
    },
    {
     "name": "stderr",
     "output_type": "stream",
     "text": [
      "[nltk_data] Downloading package words to\n",
      "[nltk_data]     C:\\Users\\jonca\\AppData\\Roaming\\nltk_data...\n",
      "[nltk_data]   Package words is already up-to-date!\n"
     ]
    }
   ],
   "source": [
    "import nltk\n",
    "\n",
    "# Download the English words dataset if you haven't already\n",
    "nltk.download('words')\n",
    "\n",
    "# Import the English words\n",
    "from nltk.corpus import words\n",
    "\n",
    "# Function to get all 5-letter words\n",
    "# Här får vi alla 5 bokstäver lpnga ord i listan \"five_letter_words\"\n",
    "def get_5_letter_words():\n",
    "    english_words = set(words.words())\n",
    "    five_letter_words = [word.lower() for word in english_words if len(word) == 5 and word.isalpha()]\n",
    "    return five_letter_words\n",
    "\n",
    "if __name__ == \"__main__\":\n",
    "    five_letter_words = get_5_letter_words()\n",
    "    print(f\"Total 5-letter words in English: {len(five_letter_words)}\")\n",
    "    print(\"Example 5-letter words:\")\n",
    "    print(five_letter_words[:10])  # Print the first 10 words as an example"
   ]
  },
  {
   "cell_type": "markdown",
   "metadata": {},
   "source": [
    "## Find the most common letters."
   ]
  },
  {
   "cell_type": "code",
   "execution_count": 31,
   "metadata": {},
   "outputs": [
    {
     "name": "stdout",
     "output_type": "stream",
     "text": [
      "Top 10 Most Common Letters:\n",
      "a: 5803\n",
      "e: 4897\n",
      "r: 3558\n",
      "o: 3315\n",
      "i: 3312\n",
      "s: 2885\n",
      "l: 2796\n",
      "n: 2783\n",
      "t: 2733\n",
      "u: 2300\n"
     ]
    }
   ],
   "source": [
    "from collections import Counter\n",
    "\n",
    "# Function to count letter frequency in 5-letter words\n",
    "def count_letter_frequency(words_list):\n",
    "    letter_frequency = Counter()\n",
    "    for word in words_list:\n",
    "        letter_frequency.update(word)\n",
    "    return letter_frequency\n",
    "\n",
    "if __name__ == \"__main__\":\n",
    "    letter_frequency = count_letter_frequency(five_letter_words)\n",
    "    \n",
    "    # Sort the letter frequency by count (highest to lowest)\n",
    "    sorted_frequency = sorted(letter_frequency.items(), key=lambda x: x[1], reverse=True)\n",
    "    \n",
    "    # Print the top 10 most common letters\n",
    "    print(\"Top 10 Most Common Letters:\")\n",
    "    for letter, count in sorted_frequency[:10]:\n",
    "        print(f\"{letter}: {count}\")\n",
    "\n",
    "    # Extract the top 10 most common letters\n",
    "    top_10_common_letters = [letter for letter, _ in sorted_frequency[:10]]\n"
   ]
  },
  {
   "cell_type": "markdown",
   "metadata": {},
   "source": [
    "## Keep only word matching the top 10 letters"
   ]
  },
  {
   "cell_type": "code",
   "execution_count": 32,
   "metadata": {},
   "outputs": [
    {
     "name": "stdout",
     "output_type": "stream",
     "text": [
      "a\n",
      "['salic', 'tango', 'slane', 'otate', 'ectal']\n",
      "e\n",
      "['slane', 'otate', 'ectal', 'antes', 'asale']\n",
      "r\n",
      "['ceral', 'breba', 'razee', 'grate', 'rearm']\n",
      "o\n",
      "['oread', 'orate', 'orage', 'arose', 'opera']\n",
      "['oread', 'orate', 'orage', 'arose', 'opera', 'adore', 'ocrea', 'oared', 'afore', 'leora', 'oreas']\n"
     ]
    }
   ],
   "source": [
    "def filter_words_by_top_10_common_letters(words_list, top_10_common_letters):\n",
    "    filtered_words = words_list.copy()  # Make a copy of the original list\n",
    "    \n",
    "    for letter in top_10_common_letters:\n",
    "        # Keep only words containing the current letter\n",
    "        filtered_words_ = [word for word in filtered_words if letter in word]\n",
    "        \n",
    "        if len(filtered_words_) == 0:  # Check if filtered_words_ is empty\n",
    "            return filtered_words\n",
    "        \n",
    "        filtered_words = filtered_words_\n",
    "        print(letter)\n",
    "        print(filtered_words[:5])\n",
    "    \n",
    "    return filtered_words\n",
    "\n",
    "\n",
    "starting_words = filter_words_by_top_10_common_letters(five_letter_words, top_10_common_letters)\n",
    "print(starting_words)\n"
   ]
  },
  {
   "cell_type": "code",
   "execution_count": 33,
   "metadata": {},
   "outputs": [
    {
     "name": "stdout",
     "output_type": "stream",
     "text": [
      "a\n",
      "['salic', 'tango', 'slane', 'otate', 'ectal']\n",
      "e\n",
      "['slane', 'otate', 'ectal', 'antes', 'asale']\n",
      "r\n",
      "['ceral', 'breba', 'razee', 'grate', 'rearm']\n",
      "o\n",
      "['oread', 'orate', 'orage', 'arose', 'opera']\n",
      "s\n",
      "['arose', 'oreas']\n",
      "['arose', 'oreas']\n"
     ]
    }
   ],
   "source": [
    "def filter_words_by_top_10_common_letters(words_list, top_10_common_letters):\n",
    "    filtered_words = words_list.copy()  # Make a copy of the original list\n",
    "    \n",
    "    for letter in top_10_common_letters:\n",
    "        # Keep only words containing the current letter\n",
    "        filtered_words_ = [word for word in filtered_words if letter in word]\n",
    "        \n",
    "        if len(filtered_words_) == 0:  # Check if filtered_words_ is empty\n",
    "            continue\n",
    "            ##return filtered_words\n",
    "        \n",
    "        filtered_words = filtered_words_\n",
    "        print(letter)\n",
    "        print(filtered_words[:5])\n",
    "    \n",
    "    return filtered_words\n",
    "\n",
    "\n",
    "starting_words = filter_words_by_top_10_common_letters(five_letter_words, top_10_common_letters)\n",
    "print(starting_words)\n"
   ]
  },
  {
   "cell_type": "code",
   "execution_count": 34,
   "metadata": {},
   "outputs": [
    {
     "name": "stdout",
     "output_type": "stream",
     "text": [
      "['o', 'r', 'e', 'a', 's']\n"
     ]
    }
   ],
   "source": [
    "def extract_unique_letters(starting_words):\n",
    "    unique_letters = set()\n",
    "    for word in starting_words:\n",
    "        for letter in word:\n",
    "            unique_letters.add(letter)\n",
    "    return list(unique_letters)\n",
    "\n",
    "\n",
    "\n",
    "\n",
    "\n",
    "starting_letters = extract_unique_letters(starting_words)\n",
    "print(starting_letters)"
   ]
  },
  {
   "cell_type": "code",
   "execution_count": 35,
   "metadata": {},
   "outputs": [
    {
     "name": "stdout",
     "output_type": "stream",
     "text": [
      "{'o': 2, 'r': 3, 'e': 5, 'a': 2, 's': 1}\n",
      "['arose', 'oreas']\n"
     ]
    }
   ],
   "source": [
    "from collections import defaultdict\n",
    "\n",
    "def find_most_common_positions(unique_letters, five_letter_words):\n",
    "    letter_positions = defaultdict(list)\n",
    "\n",
    "    # Initialize the defaultdict with lists for each letter\n",
    "    for letter in unique_letters:\n",
    "        letter_positions[letter] = []\n",
    "\n",
    "    # Iterate through each word in five_letter_words and record positions of letters\n",
    "    for word in five_letter_words:\n",
    "        for i, letter in enumerate(word):\n",
    "            if letter in unique_letters:\n",
    "                letter_positions[letter].append(i + 1)  # Add 1 to convert to 1-based indexing\n",
    "\n",
    "    # Find the most common position for each letter\n",
    "    most_common_positions = {}\n",
    "    for letter, positions in letter_positions.items():\n",
    "        if positions:\n",
    "            most_common_position = max(set(positions), key=positions.count)\n",
    "            most_common_positions[letter] = most_common_position\n",
    "\n",
    "    return most_common_positions\n",
    "\n",
    "# Usage\n",
    "common_positions = find_most_common_positions(starting_letters, five_letter_words)\n",
    "print(common_positions)\n",
    "print(starting_words)\n"
   ]
  },
  {
   "cell_type": "code",
   "execution_count": 36,
   "metadata": {},
   "outputs": [
    {
     "name": "stdout",
     "output_type": "stream",
     "text": [
      "{'a': 2, 'b': 1, 'c': 1, 'd': 1, 'e': 3, 'h': 2, 'l': 4, 'n': 3, 'p': 2, 'r': 4, 't': 3}\n"
     ]
    }
   ],
   "source": [
    "# Example usage\n",
    "five_letter_words = [\"apple\", \"banana\", \"cherry\", \"date\"]\n",
    "unique_letters = [\"a\", \"b\", \"c\", \"d\", \"e\", \"h\", \"l\", \"n\", \"p\", \"r\", \"t\"]\n",
    "common_positions = find_most_common_positions(unique_letters, five_letter_words)\n",
    "print(common_positions)\n"
   ]
  },
  {
   "cell_type": "code",
   "execution_count": 40,
   "metadata": {},
   "outputs": [
    {
     "name": "stdout",
     "output_type": "stream",
     "text": [
      "['apple', 'apricot']\n"
     ]
    }
   ],
   "source": [
    "def filter_words_by_conditions(words_list, required_letters=None, position_conditions=None):\n",
    "    filtered_words = []\n",
    "\n",
    "    for word in words_list:\n",
    "        # Check condition one: if required_letters is specified, ensure all letters are in the word\n",
    "        if required_letters and not all(letter in word for letter in required_letters):\n",
    "            continue\n",
    "        \n",
    "        # Check condition two: if position_conditions is specified, ensure letters are in the correct positions\n",
    "        if position_conditions:\n",
    "            valid_word = True\n",
    "            for position, letter in position_conditions.items():\n",
    "                position = int(position.lstrip(\"Pos\"))  # Convert position to an integer\n",
    "                if len(word) < position or word[position - 1] != letter:\n",
    "                    valid_word = False\n",
    "                    break\n",
    "            if not valid_word:\n",
    "                continue\n",
    "        \n",
    "        # If the word meets both conditions, add it to the filtered list\n",
    "        filtered_words.append(word)\n",
    "\n",
    "    return filtered_words\n",
    "\n",
    "# Example usage:\n",
    "five_letter_words = [\"apple\", \"banana\", \"cherry\", \"date\", \"apricot\"]\n",
    "required_letters = [\"a\"]\n",
    "position_conditions = {\"Pos1\": \"a\"}\n",
    "\n",
    "filtered_words = filter_words_by_conditions(five_letter_words, required_letters, position_conditions)\n",
    "print(filtered_words)\n",
    "\n"
   ]
  },
  {
   "cell_type": "code",
   "execution_count": 38,
   "metadata": {},
   "outputs": [
    {
     "name": "stdout",
     "output_type": "stream",
     "text": [
      "['apple']\n"
     ]
    }
   ],
   "source": [
    "# Example usage:\n",
    "five_letter_words = [\"apple\", \"banana\", \"cherry\", \"date\", \"apricot\"]\n",
    "required_letters = [\"y\", \"e\"]   #[\"y\", \"e\"]\n",
    "position_conditions = {\"Pos1\": \"a\", \"Pos3\": \"p\"}        #{\"Pos1\": \"a\", \"Pos3\": \"p\"}\n",
    "\n",
    "filtered_words = filter_words_by_conditions(five_letter_words, required_letters, position_conditions)\n",
    "print(filtered_words)"
   ]
  },
  {
   "cell_type": "code",
   "execution_count": 55,
   "metadata": {},
   "outputs": [
    {
     "name": "stdout",
     "output_type": "stream",
     "text": [
      "{'a': 1, 'e': 2, 'r': 3, 'o': 4, 'i': 5, 's': 6, 'l': 7, 'n': 8, 't': 9, 'u': 10, 'y': 11, 'c': 12, 'd': 13, 'm': 14, 'h': 15, 'p': 16, 'b': 17, 'g': 18, 'k': 19, 'w': 20, 'f': 21, 'v': 22, 'z': 23, 'j': 24, 'x': 25, 'q': 26}\n"
     ]
    }
   ],
   "source": [
    "#use this logic to create a score for all words remaning after the clues has been added.\n",
    "# Remeber to use the latest lists \n",
    "\n",
    "# Your list of letter-count tuples\n",
    "#letter_counts = [('a', 5803), ('e', 4897), ('r', 3558), ('o', 3315), ('i', 3312)]\n",
    "\n",
    "# Create a dictionary with points assigned to letters based on their order in the list\n",
    "letter_points = {letter: index + 1 for index, (letter, _) in enumerate(sorted_frequency)}\n",
    "\n",
    "print(letter_points)"
   ]
  }
 ],
 "metadata": {
  "kernelspec": {
   "display_name": "Python 3",
   "language": "python",
   "name": "python3"
  },
  "language_info": {
   "codemirror_mode": {
    "name": "ipython",
    "version": 3
   },
   "file_extension": ".py",
   "mimetype": "text/x-python",
   "name": "python",
   "nbconvert_exporter": "python",
   "pygments_lexer": "ipython3",
   "version": "3.11.0"
  }
 },
 "nbformat": 4,
 "nbformat_minor": 2
}
