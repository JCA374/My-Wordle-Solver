{
 "cells": [
  {
   "cell_type": "markdown",
   "metadata": {},
   "source": [
    "## Downlad the frequency list"
   ]
  },
  {
   "cell_type": "code",
   "execution_count": null,
   "metadata": {},
   "outputs": [],
   "source": [
    "import requests\n",
    "from bs4 import BeautifulSoup\n",
    "\n",
    "# Define the URL\n",
    "url = \"https://linguistics.stackexchange.com/questions/2124/where-to-find-frequency-list-of-english-words-from-newspapers-books-and-magazin\"\n",
    "\n",
    "# Send an HTTP GET request to the URL\n",
    "response = requests.get(url)\n",
    "\n",
    "# Check if the request was successful (status code 200)\n",
    "if response.status_code == 200:\n",
    "    # Parse the HTML content of the page\n",
    "    soup = BeautifulSoup(response.text, \"html.parser\")\n",
    "    \n",
    "    # Find the preformatted text element containing the word-frequency data\n",
    "    pre_tag = soup.find(\"pre\")\n",
    "    \n",
    "    # Extract the text content\n",
    "    text_content = pre_tag.get_text() if pre_tag else \"\"\n",
    "\n",
    "    # Split the text into lines\n",
    "    lines = text_content.splitlines()\n",
    "    \n",
    "    # Initialize an empty list to store 5-letter words with their numbers\n",
    "    five_letter_words = []\n",
    "    \n",
    "    # Iterate through the lines\n",
    "    for line in lines:\n",
    "        # Split each line into words\n",
    "        words = line.split()\n",
    "        \n",
    "        # Check if there are at least two words on the line\n",
    "        if len(words) >= 2:\n",
    "            word, number = words[0], words[1]\n",
    "            \n",
    "            # Check if the word has 5 letters\n",
    "            if len(word) == 5:\n",
    "                five_letter_words.append((word, number))\n",
    "    \n",
    "    # Define the output file name\n",
    "    output_file = \"five_letter_frequency_list.txt\"\n",
    "    \n",
    "    # Write the 5-letter words and their numbers to the output file\n",
    "    with open(output_file, \"w\") as file:\n",
    "        for word, number in five_letter_words:\n",
    "            file.write(f\"{word}\\t{number}\\n\")\n",
    "    \n",
    "    print(f\"5-letter words and their numbers saved to {output_file}\")\n",
    "else:\n",
    "    print(f\"Failed to retrieve data. Status code: {response.status_code}\")\n"
   ]
  }
 ],
 "metadata": {
  "kernelspec": {
   "display_name": "Python 3",
   "language": "python",
   "name": "python3"
  },
  "language_info": {
   "name": "python",
   "version": "3.11.1"
  }
 },
 "nbformat": 4,
 "nbformat_minor": 2
}
