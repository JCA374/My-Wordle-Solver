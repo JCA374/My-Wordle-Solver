{
 "cells": [
  {
   "cell_type": "markdown",
   "metadata": {},
   "source": [
    "## Downlad the frequency list"
   ]
  },
  {
   "cell_type": "code",
   "execution_count": 5,
   "metadata": {},
   "outputs": [
    {
     "name": "stdout",
     "output_type": "stream",
     "text": [
      "5-letter words found:\n",
      "about\t1226734006\n",
      "other\t978481319\n",
      "which\t810514085\n",
      "their\t782849411\n",
      "there\t701170205\n",
      "first\t578161543\n",
      "would\t572644147\n",
      "these\t541003982\n",
      "click\t536746424\n",
      "price\t501651226\n",
      "5-letter words and their numbers saved to five_letter_frequency_list.txt\n"
     ]
    }
   ],
   "source": [
    "# Define the file name\n",
    "file_name = \"all_letter_frequency_list.txt\"\n",
    "\n",
    "# Read the contents of the file\n",
    "try:\n",
    "    with open(file_name, \"r\") as file:\n",
    "        text_content = file.read()\n",
    "except FileNotFoundError:\n",
    "    print(f\"File '{file_name}' not found.\")\n",
    "    text_content = \"\"\n",
    "\n",
    "# Split the text into lines\n",
    "lines = text_content.splitlines()\n",
    "\n",
    "# Initialize an empty list to store 5-letter words with their numbers\n",
    "five_letter_words = []\n",
    "\n",
    "# Iterate through the lines\n",
    "for line in lines:\n",
    "    # Split each line into words\n",
    "    words = line.split()\n",
    "    \n",
    "    # Check if there are at least two words on the line\n",
    "    if len(words) >= 2:\n",
    "        word, number = words[0], words[1]\n",
    "        \n",
    "        # Check if the word has 5 letters\n",
    "        if len(word) == 5:\n",
    "            five_letter_words.append((word, number))\n",
    "\n",
    "# Check if any 5-letter words were found\n",
    "if five_letter_words:\n",
    "    print(\"5-letter words found:\")\n",
    "    \n",
    "    # Print the first few 5-letter words\n",
    "    for word, number in five_letter_words[:10]:\n",
    "        print(f\"{word}\\t{number}\")\n",
    "    \n",
    "    # Define the output file name\n",
    "    output_file = \"five_letter_frequency_list.txt\"\n",
    "    \n",
    "    # Write the 5-letter words and their numbers to the output file\n",
    "    with open(output_file, \"w\") as file:\n",
    "        for word, number in five_letter_words:\n",
    "            file.write(f\"{word}\\t{number}\\n\")\n",
    "    \n",
    "    print(f\"5-letter words and their numbers saved to {output_file}\")\n",
    "else:\n",
    "    print(\"No 5-letter words found in the data.\")\n"
   ]
  }
 ],
 "metadata": {
  "kernelspec": {
   "display_name": "Python 3",
   "language": "python",
   "name": "python3"
  },
  "language_info": {
   "codemirror_mode": {
    "name": "ipython",
    "version": 3
   },
   "file_extension": ".py",
   "mimetype": "text/x-python",
   "name": "python",
   "nbconvert_exporter": "python",
   "pygments_lexer": "ipython3",
   "version": "3.11.1"
  }
 },
 "nbformat": 4,
 "nbformat_minor": 2
}
