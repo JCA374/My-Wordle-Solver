{
 "cells": [
  {
   "cell_type": "code",
   "execution_count": 6,
   "id": "c67cf7c2",
   "metadata": {},
   "outputs": [
    {
     "name": "stdout",
     "output_type": "stream",
     "text": [
      "Five_letter_words collected\n",
      "Old Words Collected\n",
      "Current_word_list set, old words collected\n",
      "Get word_frequency_dict completed\n",
      "Submit Word Button pressed\n",
      "Solve Word Button pressed\n",
      "solve_wordle Started\n",
      "Filter_words_based_on_parameters_updated Started\n",
      "Wordlist after : ['AAHED', 'AALII', 'AAPAS', 'AARGH', 'AARTI', 'ABACA', 'ABACI', 'ABACS', 'ABAFT', 'ABAHT']\n",
      "top_n_recommended_words_with_scores STARTED\n",
      "\n",
      "Top 10 Unique letter score \n",
      "AEROS: 30106\n",
      "AROSE: 30106\n",
      "SOARE: 30106\n",
      "AESIR: 29344\n",
      "ARISE: 29344\n",
      "RAISE: 29344\n",
      "REAIS: 29344\n",
      "SERAI: 29344\n",
      "SERIA: 29344\n",
      "ALOES: 29268\n",
      "\n"
     ]
    },
    {
     "name": "stderr",
     "output_type": "stream",
     "text": [
      "Exception in Tkinter callback\n",
      "Traceback (most recent call last):\n",
      "  File \"c:\\Users\\JonasCarlsson\\AppData\\Local\\Programs\\Python\\Python311\\Lib\\tkinter\\__init__.py\", line 1948, in __call__\n",
      "    return self.func(*args)\n",
      "           ^^^^^^^^^^^^^^^^\n",
      "  File \"<string>\", line 53, in display_letters\n",
      "  File \"<string>\", line 145, in solve_wordle\n",
      "UnboundLocalError: cannot access local variable 'word_frequency_dict' where it is not associated with a value\n"
     ]
    }
   ],
   "source": [
    "import requests\n",
    "from bs4 import BeautifulSoup\n",
    "import tkinter as tk\n",
    "from tkinter import StringVar, ttk\n",
    "from functools import partial\n",
    "from tkinter import ttk, Text, Scrollbar\n",
    "from collections import Counter, defaultdict\n",
    "from functools import partial\n",
    "import nbformat\n",
    "\n",
    "# Load and execute essential functions from \"Wordel Build 4.ipynb\"\n",
    "with open(\"Wordel Build 4.ipynb\", \"r\", encoding=\"utf-8\") as f:\n",
    "    wordel_notebook = nbformat.read(f, as_version=4)\n",
    "\n",
    "wordel_code_cells = [cell['source'] for cell in wordel_notebook['cells'] if cell['cell_type'] == 'code']\n",
    "\n",
    "# Filtering out GUI related code, since we won't be able to run GUI tests here\n",
    "for cell in wordel_code_cells:\n",
    "    if \"tkinter\" not in cell:\n",
    "        exec(cell)\n"
   ]
  },
  {
   "cell_type": "code",
   "execution_count": null,
   "id": "fdc1a341",
   "metadata": {},
   "outputs": [],
   "source": [
    "\n",
    "# Test for remove_words\n",
    "input_data = (['APPLE', 'BERRY', 'CHERRY', 'DATES', 'ELDER', 'FIGGY', 'GRAPE', 'HONEY', 'INDIA', 'JUICY'], ['APPLE', 'DATES', 'INDIA'])\n",
    "expected_output = ['BERRY', 'CHERRY', 'ELDER', 'FIGGY', 'GRAPE', 'HONEY', 'JUICY']\n",
    "result = remove_words(*input_data)\n",
    "assert result == expected_output, f\"Expected: ['BERRY', 'CHERRY', 'ELDER', 'FIGGY', 'GRAPE', 'HONEY', 'JUICY'], but got: {result}\"\n",
    "print(f\"Test for remove_words passed!\")\n"
   ]
  }
 ],
 "metadata": {
  "kernelspec": {
   "display_name": "Python 3",
   "language": "python",
   "name": "python3"
  },
  "language_info": {
   "codemirror_mode": {
    "name": "ipython",
    "version": 3
   },
   "file_extension": ".py",
   "mimetype": "text/x-python",
   "name": "python",
   "nbconvert_exporter": "python",
   "pygments_lexer": "ipython3",
   "version": "3.11.1"
  }
 },
 "nbformat": 4,
 "nbformat_minor": 5
}
