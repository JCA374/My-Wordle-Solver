{
 "cells": [
  {
   "cell_type": "markdown",
   "metadata": {},
   "source": [
    "## Get all 5 Letter Words"
   ]
  },
  {
   "cell_type": "code",
   "execution_count": 36,
   "metadata": {},
   "outputs": [
    {
     "name": "stdout",
     "output_type": "stream",
     "text": [
      "First word: ['AAHED', 'AALII']\n",
      "Last word: ZYMIC\n"
     ]
    }
   ],
   "source": [
    "import requests\n",
    "\n",
    "def fetch_gist_content(gist_url):\n",
    "    # Extract the gist ID from the URL\n",
    "    gist_id = gist_url.split('/')[-1].split('.')[0]\n",
    "    \n",
    "    # Construct the URL for the raw content\n",
    "    raw_url = f\"https://gist.githubusercontent.com/dracos/{gist_id}/raw/\"\n",
    "    \n",
    "    response = requests.get(raw_url)\n",
    "    \n",
    "    if response.status_code == 200:\n",
    "        return string_to_list(response.text)\n",
    "    else:\n",
    "        return None\n",
    "\n",
    "def string_to_list(input_string):\n",
    "    # Split the string by newline to get a list of words and remove any leading/trailing whitespace\n",
    "    return [word.upper() for word in input_string.strip().split(\"\\n\")]\n",
    "\n",
    "# Example usage\n",
    "five_letter_words = fetch_gist_content(\"https://gist.github.com/dracos/dd0668f281e685bad51479e5acaadb93\")\n",
    "\n",
    "first_word = five_letter_words[:2]\n",
    "last_word = five_letter_words[-1]\n",
    "print(\"First word:\", first_word)\n",
    "print(\"Last word:\", last_word)\n"
   ]
  },
  {
   "cell_type": "markdown",
   "metadata": {},
   "source": [
    "## Finds all used words."
   ]
  },
  {
   "cell_type": "code",
   "execution_count": 37,
   "metadata": {},
   "outputs": [
    {
     "name": "stdout",
     "output_type": "stream",
     "text": [
      "['ABACK', 'ABASE', 'ABATE', 'ABBEY', 'ABOUT', 'ABOVE', 'ABYSS', 'ACRID', 'ACUTE', 'ADMIT', 'ADOBE', 'ADOPT', 'ADORE', 'ADULT', 'AGAIN', 'AGAPE', 'AGATE', 'AGENT', 'AGILE', 'AGLOW', 'AGONY', 'AGREE', 'AHEAD', 'ALBUM', 'ALIEN', 'ALIKE', 'ALLOW', 'ALOFT', 'ALONE', 'ALOUD', 'ALPHA', 'ALTAR', 'ALTER', 'AMBER', 'AMISS', 'AMPLE', 'ANGEL', 'ANGER', 'ANGRY', 'ANODE', 'ANTIC', 'AORTA', 'APHID', 'APPLE', 'APPLY', 'APRON', 'APTLY', 'ARBOR', 'ARGUE', 'AROMA', 'ASIDE', 'ASKEW', 'ASSET', 'ATOLL', 'ATONE', 'AUDIO', 'AUDIT', 'AVAIL', 'AVERT', 'AWAIT', 'AWAKE', 'AWFUL', 'AXIOM', 'AZURE', 'BADGE', 'BADLY', 'BAGEL', 'BAKER', 'BALSA', 'BANAL', 'BARGE', 'BASIC', 'BATHE', 'BATON', 'BATTY', 'BAYOU', 'BEACH', 'BEADY', 'BEAST', 'BEEFY', 'BEGET', 'BEGIN', 'BEING', 'BELCH', 'BELIE', 'BELLY', 'BELOW', 'BENCH', 'BERET', 'BERTH', 'BESET', 'BINGE', 'BIOME', 'BIRCH', 'BIRTH', 'BLACK', 'BLAME', 'BLAND', 'BLEED', 'BLEEP', 'BLOKE', 'BLOWN', 'BLUFF', 'BLURB', 'BLURT', 'BLUSH', 'BOOBY', 'BOOST', 'BOOZE', 'BOOZY', 'BORAX', 'BOUGH', 'BRAID', 'BRAKE', 'BRASH', 'BRAVE', 'BREAD', 'BREAK', 'BRIAR', 'BRIBE', 'BRIDE', 'BRINE', 'BRING', 'BRINK', 'BRISK', 'BROKE', 'BROOK', 'BROOM', 'BRUSH', 'BUGGY', 'BULLY', 'BUNCH', 'BURLY', 'CACAO', 'CACHE', 'CANNY', 'CANOE', 'CAPER', 'CARAT', 'CARGO', 'CARRY', 'CAROL', 'CATCH', 'CATER', 'CAULK', 'CEDAR', 'CHAFE', 'CHAMP', 'CHANT', 'CHARD', 'CHARM', 'CHART', 'CHEAT', 'CHEEK', 'CHEST', 'CHIEF', 'CHILL', 'CHIME', 'CHOIR', 'CHOKE', 'CHORD', 'CHUNK', 'CHUTE', 'CIDER', 'CIGAR', 'CINCH', 'CIRCA', 'CIVIC', 'CLASS', 'CLEAN', 'CLEAR', 'CLERK', 'CLICK', 'CLING', 'CLOCK', 'CLOSE', 'CLOTH', 'CLOWN', 'CLUCK', 'COACH', 'COAST', 'COCOA', 'COLON', 'COMET', 'COMMA', 'CONDO', 'CONIC', 'CORNY', 'COULD', 'COUNT', 'COVET', 'COWER', 'COYLY', 'CRAMP', 'CRANE', 'CRANK', 'CRASS', 'CRATE', 'CRAVE', 'CRAZE', 'CRAZY', 'CREAK', 'CREDO', 'CREPT', 'CRIME', 'CRIMP', 'CROAK', 'CRONE', 'CROSS', 'CRUMB', 'CRUST', 'CURLY', 'CYNIC', 'DADDY', 'DANCE', 'DANDY', 'DEATH', 'DEBUG', 'DELTA', 'DELVE', 'DENIM', 'DEPOT', 'DEPTH', 'DIGIT', 'DINER', 'DISCO', 'DITTO', 'DODGE', 'DONOR', 'DONUT', 'DOUBT', 'DOWRY', 'DOZEN', 'DRAIN', 'DREAM', 'DRINK', 'DRIVE', 'DROLL', 'DROOP', 'DUCHY', 'DUTCH', 'DUVET', 'DWARF', 'DWELL', 'DWELT', 'EARTH', 'EGRET', 'EJECT', 'ELDER', 'ELOPE', 'ELUDE', 'EMAIL', 'EMPTY', 'ENEMA', 'ENJOY', 'ENNUI', 'ENTER', 'EPOCH', 'EPOXY', 'EQUAL', 'ERODE', 'ERROR', 'ESSAY', 'ETHIC', 'ETHOS', 'EVADE', 'EVERY', 'EXACT', 'EXCEL', 'EXERT', 'EXIST', 'EXTRA', 'EXULT', 'FARCE', 'FAULT', 'FAVOR', 'FEAST', 'FEIGN', 'FERRY', 'FEWER', 'FIELD', 'FIEND', 'FIFTY', 'FINER', 'FIRST', 'FISHY', 'FIXER', 'FJORD', 'FLAIL', 'FLAIR', 'FLANK', 'FLASK', 'FLESH', 'FLICK', 'FLING', 'FLIRT', 'FLOAT', 'FLOCK', 'FLOOD', 'FLOOR', 'FLORA', 'FLOSS', 'FLOUT', 'FLUFF', 'FLUME', 'FLYER', 'FOCAL', 'FOCUS', 'FOGGY', 'FOLLY', 'FORAY', 'FORGE', 'FORGO', 'FORTH', 'FOUND', 'FOYER', 'FRAME', 'FRANK', 'FRESH', 'FROCK', 'FRONT', 'FROST', 'FROTH', 'FROZE', 'FUNGI', 'GAMER', 'GAMMA', 'GAUDY', 'GAUZE', 'GAWKY', 'GECKO', 'GHOUL', 'GIANT', 'GIDDY', 'GIRTH', 'GIVEN', 'GLASS', 'GLEAN', 'GLOAT', 'GLOOM', 'GLORY', 'GLOVE', 'GLYPH', 'GNASH', 'GOLEM', 'GONER', 'GOOSE', 'GORGE', 'GOUGE', 'GRADE', 'GRAND', 'GRAPH', 'GRATE', 'GREAT', 'GREET', 'GRIEF', 'GRIME', 'GRIMY', 'GRIPE', 'GROIN', 'GROUP', 'GROUT', 'GROVE', 'GROWL', 'GRUEL', 'GUANO', 'GUARD', 'GUEST', 'GUILD', 'GULLY', 'GUPPY', 'HAIRY', 'HAPPY', 'HATCH', 'HATER', 'HAVOC', 'HEADY', 'HEART', 'HEATH', 'HEIST', 'HELIX', 'HELLO', 'HERON', 'HINGE', 'HOARD', 'HOBBY', 'HOMER', 'HORDE', 'HORSE', 'HOTEL', 'HOUND', 'HOWDY', 'HUMAN', 'HUMID', 'HUMOR', 'HUMPH', 'HUNKY', 'HURRY', 'HUTCH', 'HYPER', 'IGLOO', 'IMPEL', 'INANE', 'INDEX', 'INEPT', 'INERT', 'INFER', 'INPUT', 'INTER', 'IONIC', 'IRATE', 'IRONY', 'ISLET', 'ITCHY', 'IVORY', 'JAUNT', 'JAZZY', 'JOKER', 'JOUST', 'JUDGE', 'KARMA', 'KAYAK', 'KAZOO', 'KEBAB', 'KHAKI', 'KIOSK', 'KNEEL', 'KNELT', 'KNOCK', 'KNOLL', 'KOALA', 'LABEL', 'LABOR', 'LAPEL', 'LAPSE', 'LARVA', 'LATTE', 'LAYER', 'LEAFY', 'LEAKY', 'LEAPT', 'LEAVE', 'LEDGE', 'LEERY', 'LEMON', 'LIBEL', 'LIGHT', 'LILAC', 'LINEN', 'LIVER', 'LOCUS', 'LOFTY', 'LOGIC', 'LOOPY', 'LOSER', 'LOVER', 'LOWLY', 'LOYAL', 'LUCKY', 'LUNAR', 'LUSTY', 'LYING', 'MADAM', 'MAGIC', 'MAGMA', 'MAIZE', 'MAJOR', 'MANLY', 'MANOR', 'MAPLE', 'MARCH', 'MARRY', 'MARSH', 'MASSE', 'MATEY', 'MAXIM', 'MAYBE', 'MEALY', 'MEDAL', 'MERCY', 'MERIT', 'MERRY', 'METAL', 'METRO', 'MIDGE', 'MIDST', 'MIMIC', 'MINCE', 'MODEL', 'MOIST', 'MOLAR', 'MONEY', 'MONTH', 'MOOSE', 'MOSSY', 'MOTOR', 'MOTTO', 'MOULT', 'MOUNT', 'MOURN', 'MOUSE', 'MOVIE', 'MUCKY', 'MUMMY', 'MUSIC', 'NAIVE', 'NANNY', 'NASTY', 'NATAL', 'NAVAL', 'NEEDY', 'NIGHT', 'NINTH', 'NYMPH', 'OCCUR', 'OCEAN', 'OFFAL', 'OLDER', 'OLIVE', 'ONION', 'ONSET', 'OPERA', 'OTHER', 'OUGHT', 'OUTDO', 'OXIDE', 'PANEL', 'PANIC', 'PAPER', 'PARER', 'PARRY', 'PARTY', 'PATTY', 'PAUSE', 'PEACE', 'PEACH', 'PERCH', 'PERKY', 'PHASE', 'PHOTO', 'PICKY', 'PIETY', 'PILOT', 'PINEY', 'PINKY', 'PINTO', 'PITHY', 'PIXIE', 'PLANK', 'PLANT', 'PLATE', 'PLAZA', 'PLEAT', 'PLUCK', 'PLUNK', 'POINT', 'POISE', 'POKER', 'POLKA', 'POLYP', 'POUND', 'POWER', 'PRICK', 'PRIDE', 'PRIME', 'PRIMO', 'PRINT', 'PRIZE', 'PROBE', 'PROVE', 'PROXY', 'PULPY', 'PURGE', 'QUALM', 'QUART', 'QUERY', 'QUEST', 'QUICK', 'QUIET', 'QUIRK', 'QUOTE', 'RADIO', 'RAINY', 'RAMEN', 'RANCH', 'RANGE', 'RATIO', 'RAYON', 'REACT', 'REBUS', 'REBUT', 'RECAP', 'REGAL', 'RENEW', 'REPAY', 'RETCH', 'RETRO', 'REVEL', 'RHINO', 'RHYME', 'RIGHT', 'RIPER', 'RIVAL', 'ROBIN', 'ROBOT', 'ROCKY', 'RODEO', 'ROGUE', 'ROOMY', 'ROUGE', 'ROUND', 'ROUSE', 'ROYAL', 'RUDDY', 'RUDER', 'RUPEE', 'RUSTY', 'SAINT', 'SALAD', 'SALSA', 'SAUTE', 'SCALD', 'SCARE', 'SCARF', 'SCOLD', 'SCORN', 'SCOUR', 'SCOUT', 'SCRAP', 'SCRUB', 'SEDAN', 'SEEDY', 'SERVE', 'SEVER', 'SHAKE', 'SHALL', 'SHAME', 'SHARD', 'SHAWL', 'SHINE', 'SHIRE', 'SHIRK', 'SHORN', 'SHOWN', 'SHOWY', 'SHRUB', 'SHRUG', 'SHYLY', 'SIEGE', 'SISSY', 'SKILL', 'SKIMP', 'SKIRT', 'SKUNK', 'SLATE', 'SLEEK', 'SLOSH', 'SLOTH', 'SLUMP', 'SLUNG', 'SMART', 'SMASH', 'SMEAR', 'SMELT', 'SMILE', 'SMIRK', 'SMITE', 'SNACK', 'SNAFU', 'SNAIL', 'SNAKY', 'SNARE', 'SNARL', 'SNEAK', 'SNOUT', 'SOGGY', 'SOLAR', 'SOLVE', 'SONIC', 'SOUND', 'SOWER', 'SPACE', 'SPADE', 'SPELL', 'SPEND', 'SPICE', 'SPICY', 'SPIEL', 'SPIKE', 'SPILL', 'SPIRE', 'SPLAT', 'SPOKE', 'SPRAY', 'SPURT', 'SQUAD', 'SQUAT', 'STAFF', 'STAGE', 'STAID', 'STAIR', 'STALE', 'STAND', 'START', 'STEAD', 'STEED', 'STEIN', 'STICK', 'STING', 'STINK', 'STOCK', 'STOMP', 'STONE', 'STOOL', 'STORE', 'STORY', 'STOUT', 'STOVE', 'STRAP', 'STRAW', 'STUDY', 'STYLE', 'SUGAR', 'SULKY', 'SURER', 'SURLY', 'SWEAT', 'SWEEP', 'SWEET', 'SWILL', 'SWINE', 'SWIRL', 'SYRUP', 'TACIT', 'TANGY', 'TAPER', 'TAPIR', 'TASTE', 'TASTY', 'TAUNT', 'TEASE', 'TENTH', 'TEPID', 'THEIR', 'THEME', 'THERE', 'THIEF', 'THIRD', 'THORN', 'THOSE', 'THUMB', 'THUMP', 'THYME', 'TIARA', 'TIBIA', 'TIGER', 'TILDE', 'TIPSY', 'TODAY', 'TONIC', 'TOPAZ', 'TORSO', 'TOTEM', 'TOUGH', 'TOXIC', 'TRACE', 'TRACT', 'TRAIN', 'TRAIT', 'TRASH', 'TRAWL', 'TREAT', 'TREND', 'TRIAD', 'TRICE', 'TRITE', 'TROLL', 'TROPE', 'TROVE', 'TRUSS', 'TRUTH', 'TRYST', 'TWANG', 'TWEED', 'TWICE', 'TWINE', 'ULCER', 'ULTRA', 'UNCLE', 'UNDER', 'UNDUE', 'UNFED', 'UNFIT', 'UNIFY', 'UNITE', 'UNLIT', 'UNMET', 'UNTIE', 'UNZIP', 'UPSET', 'USAGE', 'USHER', 'USING', 'USUAL', 'USURP', 'UTTER', 'VAGUE', 'VALET', 'VALID', 'VENOM', 'VERVE', 'VIGOR', 'VIOLA', 'VIRAL', 'VITAL', 'VIVID', 'VODKA', 'VOICE', 'VOTER', 'VOUCH', 'WACKY', 'WALTZ', 'WASTE', 'WATCH', 'WEARY', 'WEDGE', 'WHACK', 'WHALE', 'WHEEL', 'WHELP', 'WHERE', 'WHIFF', 'WHILE', 'WHINE', 'WHIRL', 'WHISK', 'WHOOP', 'WINCE', 'WINDY', 'WOKEN', 'WOOER', 'WORDY', 'WORLD', 'WORRY', 'WORSE', 'WOVEN', 'WRATH', 'WRITE', 'WRONG', 'WROTE', 'WRUNG', 'YACHT', 'YEARN', 'YIELD', 'YOUTH', 'ZESTY']\n"
     ]
    }
   ],
   "source": [
    "import requests\n",
    "from bs4 import BeautifulSoup\n",
    "\n",
    "url = \"https://www.rockpapershotgun.com/wordle-past-answers\"\n",
    "response = requests.get(url)\n",
    "soup = BeautifulSoup(response.content, \"html.parser\")\n",
    "\n",
    "OldWords = []\n",
    "for li in soup.select(\"ul.inline li\"):\n",
    "  OldWords.append(li.text)\n",
    "\n",
    "print(OldWords)"
   ]
  },
  {
   "cell_type": "markdown",
   "metadata": {},
   "source": [
    "## Remove all the used words"
   ]
  },
  {
   "cell_type": "code",
   "execution_count": 38,
   "metadata": {},
   "outputs": [
    {
     "name": "stdout",
     "output_type": "stream",
     "text": [
      "Length of OldWords: 856\n",
      "Length of five_letter_words before update: 14855\n",
      "Length of five_letter_words after update: 13999\n"
     ]
    }
   ],
   "source": [
    "def remove_words(five_letter_words, OldWords):\n",
    "  \"\"\"Removes all words from `five_letter_words` that are also in `words`.\"\"\"\n",
    "\n",
    "  print(f\"Length of OldWords: {len(OldWords)}\")\n",
    "  print(f\"Length of five_letter_words before update: {len(five_letter_words)}\")\n",
    "\n",
    "  for word in OldWords:\n",
    "    if word in five_letter_words:\n",
    "      five_letter_words.remove(word)\n",
    "\n",
    "  print(f\"Length of five_letter_words after update: {len(five_letter_words)}\")\n",
    "\n",
    "\n",
    "remove_words(five_letter_words, OldWords)\n"
   ]
  },
  {
   "cell_type": "markdown",
   "metadata": {},
   "source": [
    "## Find the most common letters."
   ]
  },
  {
   "cell_type": "code",
   "execution_count": 39,
   "metadata": {},
   "outputs": [
    {
     "name": "stdout",
     "output_type": "stream",
     "text": [
      "Most Common Letters:\n",
      "S: 7102\n",
      "E: 7003\n",
      "A: 6743\n",
      "O: 4910\n",
      "R: 4365\n",
      "I: 4146\n",
      "L: 3526\n",
      "T: 3420\n",
      "N: 3282\n",
      "U: 2762\n",
      "D: 2596\n",
      "P: 2305\n",
      "M: 2298\n",
      "Y: 2257\n",
      "C: 2061\n",
      "H: 1836\n",
      "B: 1745\n",
      "G: 1742\n",
      "K: 1665\n",
      "F: 1161\n",
      "W: 1059\n",
      "V: 750\n",
      "Z: 485\n",
      "J: 333\n",
      "X: 309\n",
      "Q: 134\n"
     ]
    }
   ],
   "source": [
    "from collections import Counter\n",
    "\n",
    "def count_letter_frequency(words_list):\n",
    "    letter_frequency = Counter(\"\".join(words_list))\n",
    "    return sorted(letter_frequency.items(), key=lambda x: x[1], reverse=True)\n",
    "\n",
    "top_common_letters = count_letter_frequency(five_letter_words)\n",
    "\n",
    "# Print the most common letters\n",
    "print(\"Most Common Letters:\")\n",
    "for letter, count in top_common_letters:\n",
    "    print(f\"{letter}: {count}\")\n"
   ]
  },
  {
   "cell_type": "markdown",
   "metadata": {},
   "source": [
    "## Keep only word matching top 10 letters.\n",
    "Return the first non-empty list when exluding word matching the top 10 common letters in order"
   ]
  },
  {
   "cell_type": "code",
   "execution_count": 40,
   "metadata": {},
   "outputs": [
    {
     "name": "stdout",
     "output_type": "stream",
     "text": [
      "S\n",
      "['AAPAS', 'ABACS', 'ABASH', 'ABASK', 'ABBAS']\n",
      "E\n",
      "['ABBES', 'ABERS', 'ABETS', 'ABEYS', 'ABIES']\n",
      "A\n",
      "['ABBES', 'ABERS', 'ABETS', 'ABEYS', 'ABIES']\n",
      "O\n",
      "['AEONS', 'AEROS', 'ALOES', 'ALOSE', 'AROSE']\n",
      "R\n",
      "['AEROS', 'AROSE', 'SOARE']\n",
      "['AEROS', 'AROSE', 'SOARE']\n",
      "['A', 'E', 'O', 'R', 'S']\n"
     ]
    }
   ],
   "source": [
    "def filter_and_extract_unique_letters(words_list, top_common_letters):\n",
    "    # Filtering words\n",
    "    filtered_words = words_list.copy()  # Make a copy of the original list\n",
    "    \n",
    "    for item in top_common_letters:\n",
    "        letter = item[0] if isinstance(item, tuple) else item  # Extract the actual letter from tuple if necessary\n",
    "        temp_words = [word for word in filtered_words if letter in word]\n",
    "        \n",
    "        if temp_words:  # Check if temp_words is not empty\n",
    "            filtered_words = temp_words\n",
    "            print(letter)\n",
    "            print(filtered_words[:5])\n",
    "\n",
    "    # Extracting unique letters from the filtered words\n",
    "    unique_letters = set(\"\".join(filtered_words))\n",
    "    \n",
    "    return filtered_words, list(unique_letters)\n",
    "\n",
    "# Usage\n",
    "starting_words, starting_letters = filter_and_extract_unique_letters(five_letter_words, top_common_letters)\n",
    "print(starting_words)\n",
    "print(starting_letters)\n",
    "\n"
   ]
  },
  {
   "cell_type": "code",
   "execution_count": 41,
   "metadata": {},
   "outputs": [
    {
     "data": {
      "text/plain": [
       "([(('A', 'S'), 2449),\n",
       "  (('S', 'A'), 2449),\n",
       "  (('S', 'E'), 2417),\n",
       "  (('E', 'S'), 2417),\n",
       "  (('R', 'E'), 1911)],\n",
       " {'A': 2, 'E': 4, 'S': 5, 'R': 3, 'O': 2},\n",
       " ['AEROS', 'AROSE', 'SOARE'])"
      ]
     },
     "execution_count": 41,
     "metadata": {},
     "output_type": "execute_result"
    }
   ],
   "source": [
    "from collections import Counter, defaultdict\n",
    "\n",
    "def most_common_combinations_v2(words_list, starting_words, top_n=5):\n",
    "    # Create all possible combinations of two letters from starting_words\n",
    "    two_letter_combinations = set()\n",
    "    for word in starting_words:\n",
    "        for i in range(len(word)):\n",
    "            for j in range(i+1, len(word)):\n",
    "                two_letter_combinations.add((word[i], word[j]))\n",
    "    \n",
    "    # Count the occurrences of each combination in words_list\n",
    "    combination_counter = Counter()\n",
    "    for word in words_list:\n",
    "        for combo in two_letter_combinations:\n",
    "            if combo[0] in word and combo[1] in word:\n",
    "                combination_counter[combo] += 1\n",
    "                \n",
    "    return combination_counter.most_common(top_n)\n",
    "\n",
    "def most_common_positions_v2(words_list, starting_words):\n",
    "    # Dictionary to count positions for each letter\n",
    "    position_counter = defaultdict(lambda: defaultdict(int))\n",
    "    for word in words_list:\n",
    "        for start_word in starting_words:\n",
    "            for index, letter in enumerate(start_word):\n",
    "                if letter in word:\n",
    "                    # Adjusting the index to go from 1 to 5\n",
    "                    position = word.index(letter) + 1\n",
    "                    position_counter[letter][position] += 1\n",
    "                    \n",
    "    # Determine the most common position for each letter\n",
    "    common_positions = {}\n",
    "    for letter, positions in position_counter.items():\n",
    "        common_positions[letter] = max(positions, key=positions.get)\n",
    "        \n",
    "    return common_positions\n",
    "\n",
    "# Results\n",
    "top_5_combinations = most_common_combinations_v2(five_letter_words, starting_words)\n",
    "adjusted_positions = most_common_positions_v2(five_letter_words, starting_words)\n",
    "\n",
    "top_5_combinations, adjusted_positions, starting_words\n"
   ]
  },
  {
   "cell_type": "code",
   "execution_count": 42,
   "metadata": {},
   "outputs": [
    {
     "data": {
      "text/plain": [
       "[('AEROS', 2), ('SOARE', 1), ('AROSE', 0)]"
      ]
     },
     "execution_count": 42,
     "metadata": {},
     "output_type": "execute_result"
    }
   ],
   "source": [
    "from collections import Counter, defaultdict\n",
    "\n",
    "def best_matching_words(combinations, positions, words, top_n=5):\n",
    "    \"\"\"\n",
    "    Determine the top matching words based on the provided combinations and positions.\n",
    "    \n",
    "    Args:\n",
    "    - combinations (list of tuples): The top letter combinations.\n",
    "    - positions (dict): The most common positions for each letter.\n",
    "    - words (list of str): The words to evaluate.\n",
    "    - top_n (int): The number of top words to return.\n",
    "\n",
    "    Returns:\n",
    "    - list of tuples: The top matching words and their scores.\n",
    "    \"\"\"\n",
    "    scores = {}\n",
    "    for word in words:\n",
    "        score = 0\n",
    "        \n",
    "        # Score based on two-letter combinations\n",
    "        for i in range(len(word)):\n",
    "            for j in range(i+1, len(word)):\n",
    "                combination = (word[i], word[j])\n",
    "                if combination in [combo[0] for combo in combinations]:\n",
    "                    score += 1\n",
    "\n",
    "        # Score based on letter positions\n",
    "        for index, letter in enumerate(word, start=1):\n",
    "            if positions.get(letter) == index:\n",
    "                score += 1\n",
    "\n",
    "        scores[word] = score\n",
    "\n",
    "    # Sort the words based on their scores and return the top_n words\n",
    "    sorted_words = sorted(scores.items(), key=lambda x: x[1], reverse=True)\n",
    "    \n",
    "    return sorted_words[:top_n]\n",
    "\n",
    "# Using the provided variables to get the top 5 matching words\n",
    "top_5_words_scores = best_matching_words([combo[0] for combo in top_5_combinations], adjusted_positions, starting_words)\n",
    "top_5_words_scores\n"
   ]
  },
  {
   "cell_type": "markdown",
   "metadata": {},
   "source": [
    "# Play Wordel"
   ]
  },
  {
   "cell_type": "code",
   "execution_count": 49,
   "metadata": {},
   "outputs": [
    {
     "data": {
      "text/plain": [
       "['TEMPO']"
      ]
     },
     "execution_count": 49,
     "metadata": {},
     "output_type": "execute_result"
    }
   ],
   "source": [
    "def filter_words_by_criteria(words_list, \n",
    "                             letters_included=None, \n",
    "                             letters_not_included=None, \n",
    "                             locked_positions=None, \n",
    "                             excluded_positions=None):\n",
    "    \"\"\"\n",
    "    Filter words based on the provided criteria.\n",
    "    \n",
    "    Args:\n",
    "    - words_list (list of str): The list of words to filter.\n",
    "    - letters_included (list or None): Letters that must be present in the word.\n",
    "    - letters_not_included (list or None): Letters that should not be present in the word.\n",
    "    - locked_positions (dict or None): Dictionary specifying which letters must be in certain positions.\n",
    "    - excluded_positions (dict or None): Dictionary specifying which letters must not be in certain positions.\n",
    "\n",
    "    Returns:\n",
    "    - list of str: The filtered list of words.\n",
    "    \"\"\"\n",
    "    filtered_words = words_list.copy()\n",
    "    \n",
    "    # Include words that have all the letters from letters_included\n",
    "    if letters_included:\n",
    "        filtered_words = [word for word in filtered_words if all(letter in word for letter in letters_included)]\n",
    "    \n",
    "    # Exclude words that have any letter from letters_not_included\n",
    "    if letters_not_included:\n",
    "        filtered_words = [word for word in filtered_words if not any(letter in word for letter in letters_not_included)]\n",
    "    \n",
    "    # Include words that match the locked positions criteria\n",
    "    if locked_positions:\n",
    "        filtered_words = [word for word in filtered_words if all(word[position-1] == letter for position, letter in locked_positions.items())]\n",
    "    \n",
    "    # Exclude words that match the excluded positions criteria\n",
    "    if excluded_positions:\n",
    "        filtered_words = [word for word in filtered_words if not any(word[position-1] == letter for position, letter in excluded_positions.items())]\n",
    "\n",
    "    return filtered_words\n",
    "\n",
    "# Example usage\n",
    "'''\n",
    "sample_words = [\"apple\", \"alien\", \"alike\", \"leaks\", \"peaks\", \"lemon\", \"melon\"]\n",
    "letters_included = ['a', 'e']\n",
    "letters_not_included = ['p']\n",
    "locked_positions = {1: 'a', 3: 'i'}\n",
    "excluded_positions = {5: 'n'}\n",
    "'''\n",
    "\n",
    "letters_included = ['E', 'O' , 'T', 'M']\n",
    "letters_not_included = ['A', 'R', 'S', 'L', 'N', 'H']\n",
    "locked_positions = {2: 'E' ,5: 'O'}\n",
    "excluded_positions = {1: 'M', 3: 'T'}\n",
    "\n",
    "\n",
    "filtered_results = filter_words_by_criteria(five_letter_words, letters_included, letters_not_included, locked_positions, excluded_positions)\n",
    "filtered_results[:10]\n"
   ]
  },
  {
   "cell_type": "code",
   "execution_count": 50,
   "metadata": {},
   "outputs": [
    {
     "name": "stdout",
     "output_type": "stream",
     "text": [
      "Most Common Letters:\n",
      "T: 1\n",
      "E: 1\n",
      "M: 1\n",
      "P: 1\n",
      "O: 1\n",
      "T\n",
      "['AARTI', 'ABAFT', 'ABAHT', 'ABBOT', 'ABEAT']\n",
      "E\n",
      "['ABEAT', 'ABETS', 'ABLET', 'ABNET', 'ACETA']\n",
      "M\n",
      "['AMATE', 'AMENT', 'ARMET', 'COMTE', 'DEMIT']\n",
      "P\n",
      "['DEMPT', 'EMPTS', 'KEMPT', 'MPRET', 'MTEPE']\n",
      "O\n",
      "['TEMPO']\n",
      "['TEMPO']\n",
      "['T', 'E', 'M', 'P', 'O']\n"
     ]
    },
    {
     "data": {
      "text/plain": [
       "[('TEMPO', 1)]"
      ]
     },
     "execution_count": 50,
     "metadata": {},
     "output_type": "execute_result"
    }
   ],
   "source": [
    "top_common_letters = count_letter_frequency(filtered_results)\n",
    "\n",
    "# Update the most comon letter left\n",
    "print(\"Most Common Letters:\")\n",
    "for letter, count in top_common_letters:\n",
    "    print(f\"{letter}: {count}\")\n",
    "    \n",
    "\n",
    "# Usage\n",
    "next_words, next_letters = filter_and_extract_unique_letters(five_letter_words, top_common_letters)\n",
    "print(next_words)\n",
    "print(next_letters)\n",
    "\n",
    "\n",
    "top_5_combinations = most_common_combinations_v2(five_letter_words, next_words)\n",
    "adjusted_positions = most_common_positions_v2(five_letter_words, next_words)\n",
    "\n",
    "top_5_combinations, adjusted_positions, next_words\n",
    "\n",
    "# Using the provided variables to get the top 5 matching words\n",
    "top_5_words_scores = best_matching_words([combo[0] for combo in top_5_combinations], adjusted_positions, next_words)\n",
    "top_5_words_scores\n"
   ]
  }
 ],
 "metadata": {
  "kernelspec": {
   "display_name": "Python 3",
   "language": "python",
   "name": "python3"
  },
  "language_info": {
   "codemirror_mode": {
    "name": "ipython",
    "version": 3
   },
   "file_extension": ".py",
   "mimetype": "text/x-python",
   "name": "python",
   "nbconvert_exporter": "python",
   "pygments_lexer": "ipython3",
   "version": "3.11.1"
  }
 },
 "nbformat": 4,
 "nbformat_minor": 2
}
