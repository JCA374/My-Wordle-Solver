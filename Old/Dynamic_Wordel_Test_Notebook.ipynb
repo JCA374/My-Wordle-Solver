{
 "cells": [
  {
   "cell_type": "code",
   "execution_count": null,
   "id": "888aef4e",
   "metadata": {},
   "outputs": [],
   "source": [
    "\n",
    "# Load and execute essential functions from \"Wordel Build 4.ipynb\"\n",
    "with open(\"/mnt/data/Wordel Build 4.ipynb\", \"r\", encoding=\"utf-8\") as f:\n",
    "    wordel_notebook = nbformat.read(f, as_version=4)\n",
    "\n",
    "wordel_code_cells = [cell['source'] for cell in wordel_notebook['cells'] if cell['cell_type'] == 'code']\n",
    "\n",
    "# Filtering out GUI related code, since we won't be able to run GUI tests here\n",
    "for cell in wordel_code_cells:\n",
    "    if \"tkinter\" not in cell:\n",
    "        exec(cell)\n"
   ]
  },
  {
   "cell_type": "code",
   "execution_count": null,
   "id": "8234a3b0",
   "metadata": {},
   "outputs": [],
   "source": [
    "\n",
    "# Test for remove_words\n",
    "input_data = (['APPLE', 'BERRY', 'CHERRY', 'DATES', 'ELDER', 'FIGGY', 'GRAPE', 'HONEY', 'INDIA', 'JUICY'], ['APPLE', 'DATES', 'INDIA'])\n",
    "expected_output = ['BERRY', 'CHERRY', 'ELDER', 'FIGGY', 'GRAPE', 'HONEY', 'JUICY']\n",
    "result = remove_words(*input_data)\n",
    "assert result == expected_output, f\"Expected: ['BERRY', 'CHERRY', 'ELDER', 'FIGGY', 'GRAPE', 'HONEY', 'JUICY'], but got: {result}\"\n",
    "print(f\"Test for remove_words passed!\")\n"
   ]
  }
 ],
 "metadata": {},
 "nbformat": 4,
 "nbformat_minor": 5
}
